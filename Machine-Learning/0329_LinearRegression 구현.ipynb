{
 "cells": [
  {
   "cell_type": "code",
   "execution_count": 2,
   "id": "f6ae27e6",
   "metadata": {},
   "outputs": [
    {
     "name": "stdout",
     "output_type": "stream",
     "text": [
      "W : [[0.40433441]], b : [0.05274472], loss : 37.973943820661546\n",
      "W : [[2.04713872]], b : [0.82981426], loss : 0.0052718065457720165\n",
      "W : [[2.01709505]], b : [0.93828144], loss : 0.0006933374527726466\n",
      "W : [[2.00619959]], b : [0.97761751], loss : 9.118635504611015e-05\n",
      "W : [[2.00224831]], b : [0.9918829], loss : 1.1992647034066408e-05\n",
      "W : [[2.00081536]], b : [0.9970563], loss : 1.5772489514513022e-06\n",
      "W : [[2.00029569]], b : [0.99893246], loss : 2.0743662744444182e-07\n",
      "W : [[2.00010723]], b : [0.99961285], loss : 2.7281650347260298e-08\n",
      "W : [[2.00003889]], b : [0.9998596], loss : 3.5880280875008645e-09\n",
      "W : [[2.0000141]], b : [0.99994908], loss : 4.718902778687397e-10\n"
     ]
    }
   ],
   "source": [
    "import numpy as np\n",
    "\n",
    "# Training Data Set 준비\n",
    "# x_data => 독립변수(공부시간)\n",
    "# reshape(5,-1) => 행을 5개로 만들고 열은 남은 데이터를 가지고 알아서 채워라\n",
    "x_data = np.array([1, 2, 3, 4, 5], dtype=np.float64).reshape(5,1)  # 5행 1열로 바꾼다.\n",
    "# t_data => 종속변수, 정답데이터(시험점수)\n",
    "t_data = np.array([3, 5, 7, 9, 11], dtype=np.float64).reshape(5,1)\n",
    "\n",
    "# Weight & bias 정의\n",
    "W = np.random.rand(1,1)   # 1행 1열짜리(값은 1개) ndarray를 만들고\n",
    "                          # 0과 1사이의 균등분포에서 실수 난수를 추출\n",
    "b = np.random.rand(1)     # 1차원 상수\n",
    "\n",
    "\n",
    "# predict function (예측 함수, 모델, hypothesis)\n",
    "def predict(x):\n",
    "    y = np.dot(x,W) + b   # 행렬 곱 x가 앞에 W가 뒤에\n",
    "    \n",
    "    return y\n",
    "\n",
    "\n",
    "# loss function\n",
    "def loss_func(input_data):   # loss 함수는 w와 b의 함수\n",
    "                             # input_data => [W b]\n",
    "        \n",
    "    input_W = input_data[0].reshape(1,1)   # W의 값을 가져와서 다시 2차원으로 생성\n",
    "    input_b = input_data[1]\n",
    "    \n",
    "    # 예측값\n",
    "    # 2차원 행렬 x_data와 input_W로 matrix 행렬 곱 연산을 한다.\n",
    "    y = np.dot(x_data, input_W) + input_b\n",
    "    \n",
    "    # MSE를 구한다(평균제곱오차)\n",
    "    return np.mean(np.power(t_data - y, 2))\n",
    "\n",
    "\n",
    "# 다변수 함수에 대한 수치미분을 수행하는 함수\n",
    "def numerical_derivative(f, x):   # x : ndarray [1.0  2.0]\n",
    "                                  \n",
    "    delta_x = 1e-4\n",
    "    derivative_x = np.zeros_like(x)   # derivative_x : [0.0  0.0]\n",
    "    \n",
    "    # iterator를 이용해서 입력변수 x에 대한 편미분을 수행!\n",
    "    it = np.nditer(x, flags=['multi_index'])\n",
    "    \n",
    "    while not it.finished:\n",
    "        \n",
    "        idx = it.multi_index\n",
    "        tmp = x[idx]             # tmp : 1.0\n",
    "        \n",
    "        x[idx] = tmp + delta_x   # x : ndarray [1.0001  2.0]\n",
    "        fx_plus_delta = f(x)\n",
    "        \n",
    "        x[idx] = tmp - delta_x   # x : ndarray [0.9999  2.0]\n",
    "        fx_minus_delta = f(x)\n",
    "        \n",
    "        derivative_x[idx] = (fx_plus_delta - fx_minus_delta) / (2 * delta_x)\n",
    "        \n",
    "        x[idx] = tmp             # x : ndarray [1.0  2.0]\n",
    "        it.iternext()\n",
    "        \n",
    "    return derivative_x\n",
    "\n",
    "\n",
    "# learning rate의 값을 설정해야 한다!\n",
    "# learning rate는 우리가 설정해야 하는 값이다. 학습이 진행되는 과정을\n",
    "# 살펴보면서 이 값을 적절하게 수정해야 한다! 초기에는 1e-4, 1e-3 정도로\n",
    "# 설정해서 사용한다!\n",
    "learning_rate = 1e-4\n",
    "\n",
    "\n",
    "# 학습과정을 진행!\n",
    "for step in range(300000):\n",
    "    \n",
    "    # .ravel() => 1차원으로 만든다.\n",
    "    # np.concatenate() => 서로 다른 값을 연결해서 하나의 ndarray로 만든다.\n",
    "    #                     연결할 값들을 튜플로 작성한다.\n",
    "    input_param = np.concatenate((W.ravel(), b.ravel()), axis=0)  # [W b]\n",
    "    derivative_result = learning_rate * numerical_derivative(loss_func, input_param)\n",
    "    \n",
    "    W = W - derivative_result[0].reshape(1,1)\n",
    "    b = b - derivative_result[1]\n",
    "    \n",
    "    if step % 30000 == 0:\n",
    "        input_param = np.concatenate((W.ravel(), b.ravel()), axis=0)\n",
    "        print('W : {}, b : {}, loss : {}'.format(W, b, loss_func(input_param)))"
   ]
  },
  {
   "cell_type": "code",
   "execution_count": 3,
   "id": "1ed70033",
   "metadata": {},
   "outputs": [
    {
     "name": "stdout",
     "output_type": "stream",
     "text": [
      "6시간 공부했을 때 점수 :  [[13.00001222]]\n"
     ]
    }
   ],
   "source": [
    "# 6시간 공부하면 몇점일지를 예측해보자!\n",
    "\n",
    "predict_date = predict(np.array([[6]]))\n",
    "print('6시간 공부했을 때 점수 : ', predict_date)"
   ]
  },
  {
   "cell_type": "code",
   "execution_count": 5,
   "id": "21a7e3dd",
   "metadata": {},
   "outputs": [
    {
     "name": "stdout",
     "output_type": "stream",
     "text": [
      "W: [[2.]], b: [1.]\n",
      "[[13.]]\n"
     ]
    }
   ],
   "source": [
    "# Python으로 아주 간단한 Simple Linear Regression을 이용해 머신러닝을\n",
    "# 구현해보았다\n",
    "# sklearn(scikit-learn)\n",
    "# pip install sklearn\n",
    "import numpy as np\n",
    "from sklearn import linear_model\n",
    "\n",
    "# Training Data Set\n",
    "x_data = np.array([1, 2, 3, 4, 5], dtype=np.float64).reshape(5,1)  # 5행 1열로 바꾼다.\n",
    "# t_data => 종속변수, 정답데이터(시험점수)\n",
    "t_data = np.array([3, 5, 7, 9, 11], dtype=np.float64).reshape(5,1)\n",
    "\n",
    "# model 생성(Simple Linear Model) => 완성된 모델은 아니지만 일단 모델을 생성\n",
    "model = linear_model.LinearRegression()\n",
    "\n",
    "# model 학습\n",
    "model.fit(x_data, t_data)\n",
    "\n",
    "# 학습이 끝났으니.. 구한 W와 b를 출력해보자\n",
    "print('W: {}, b: {}'.format(model.coef_, model.intercept_))   # W: [[2.]], b: [1.]\n",
    "\n",
    "# model을 이용한 예측\n",
    "print(model.predict(np.array([[6]])))   # [[13.]]"
   ]
  },
  {
   "cell_type": "code",
   "execution_count": 17,
   "id": "61b52bb4",
   "metadata": {},
   "outputs": [
    {
     "name": "stderr",
     "output_type": "stream",
     "text": [
      "C:\\Users\\Public\\Documents\\ESTsoft\\CreatorTemp\\ipykernel_32296\\4255720606.py:57: SettingWithCopyWarning: \n",
      "A value is trying to be set on a copy of a slice from a DataFrame\n",
      "\n",
      "See the caveats in the documentation: https://pandas.pydata.org/pandas-docs/stable/user_guide/indexing.html#returning-a-view-versus-a-copy\n",
      "  training_data.dropna(how='any',\n"
     ]
    },
    {
     "name": "stdout",
     "output_type": "stream",
     "text": [
      "W : [[0.59322117]], b : [0.60032352], loss : 874.9491592390235\n",
      "W : [[0.71636763]], b : [-11.6936151], loss : 818.056672814215\n",
      "W : [[0.85899163]], b : [-22.96318969], loss : 775.6888337788567\n",
      "W : [[0.98973618]], b : [-33.29409799], loss : 740.08487570721\n",
      "W : [[1.10959074]], b : [-42.76452345], loss : 710.1649680753334\n",
      "W : [[1.21946237]], b : [-51.44613747], loss : 685.0216716223861\n",
      "W : [[1.32018256]], b : [-59.40464182], loss : 663.8924166693932\n",
      "W : [[1.41251356]], b : [-66.70026578], loss : 646.1363751852473\n",
      "W : [[1.49715412]], b : [-73.38822206], loss : 631.2150251476377\n",
      "W : [[1.57474479]], b : [-79.51912455], loss : 618.6758177380223\n"
     ]
    }
   ],
   "source": [
    "# Ozone량 예측하는 모델을 만들어보자!\n",
    "# 데이터는 구글 드라이브에 공유된 CSV 파일을 이용하자\n",
    "# Python 구현부터 해보자!\n",
    "import numpy as np\n",
    "import pandas as pd\n",
    "import matplotlib.pyplot as plt\n",
    "\n",
    "################################################\n",
    "# 다변수 함수에 대한 수치미분을 수행하는 함수\n",
    "def numerical_derivative(f, x):   # x : ndarray [1.0  2.0]\n",
    "                                  \n",
    "    delta_x = 1e-4\n",
    "    derivative_x = np.zeros_like(x)   # derivative_x : [0.0  0.0]\n",
    "    \n",
    "    # iterator를 이용해서 입력변수 x에 대한 편미분을 수행!\n",
    "    it = np.nditer(x, flags=['multi_index'])\n",
    "    \n",
    "    while not it.finished:\n",
    "        \n",
    "        idx = it.multi_index\n",
    "        tmp = x[idx]             # tmp : 1.0\n",
    "        \n",
    "        x[idx] = tmp + delta_x   # x : ndarray [1.0001  2.0]\n",
    "        fx_plus_delta = f(x)\n",
    "        \n",
    "        x[idx] = tmp - delta_x   # x : ndarray [0.9999  2.0]\n",
    "        fx_minus_delta = f(x)\n",
    "        \n",
    "        derivative_x[idx] = (fx_plus_delta - fx_minus_delta) / (2 * delta_x)\n",
    "        \n",
    "        x[idx] = tmp             # x : ndarray [1.0  2.0]\n",
    "        it.iternext()\n",
    "        \n",
    "    return derivative_x\n",
    "################################################\n",
    "\n",
    "# Raw Data Set Loading\n",
    "df = pd.read_csv('../data/ozone.csv')\n",
    "# display(df.head())\n",
    "# display(df.info())\n",
    "\n",
    "# Ozone(오존량) : 종속변수\n",
    "# Solar.R(태양광 세기), Wind(바람), Temp(온도) : 독립변수\n",
    "# 우리는 지금 Simple Linear Regression을 하고 있기 때문에 독립변수 1개만 사용.\n",
    "# => 3개의 독립변수 중 Temp만 사용한다.\n",
    "# 온도에 따른 오존량 예측 모델을 만들어보자!\n",
    "\n",
    "training_data = df[['Ozone', 'Temp']]\n",
    "# display(training_data)\n",
    "# print(training_data.shape)   # (153, 2)\n",
    "\n",
    "# 데이터에 결치값이 존재한다\n",
    "# print(training_data.info())\n",
    "# Missing Value(결치값)를 삭제하는 방법 (데이터가 충분히 많을 때 좋다)\n",
    "# Missing Value(결치값)를 다른 값으로 대체 (데이터가 많이 없으면)\n",
    "# 여기서는 결치값을 삭제해서 진행해보자.\n",
    "training_data.dropna(how='any',\n",
    "                     inplace=True)   # how='any' : 결치가 존재하는 행을 삭제\n",
    "# training_data.info()\n",
    "\n",
    "# Training Data Set\n",
    "x_data = training_data['Temp'].values.reshape(-1,1)\n",
    "t_data = training_data['Ozone'].values.reshape(-1,1)\n",
    "\n",
    "# Weight, bias\n",
    "W = np.random.rand(1,1)\n",
    "b = np.random.rand(1)\n",
    "\n",
    "# loss function\n",
    "def loss_func(input_data):\n",
    "    W = input_data[0].reshape(1,1)\n",
    "    b = input_data[1]\n",
    "    \n",
    "    y = np.dot(x_data,W) + b\n",
    "    return np.mean(np.power(t_data-y, 2))\n",
    "\n",
    "# predict\n",
    "def predict(x):\n",
    "    y = np.dot(x,W) + b\n",
    "    return y\n",
    "\n",
    "# learning_rate\n",
    "learning_rate = 1e-4\n",
    "\n",
    "# 반복 학습\n",
    "for step in range(300000):\n",
    "    \n",
    "    # .ravel() => 1차원으로 만든다.\n",
    "    # np.concatenate() => 서로 다른 값을 연결해서 하나의 ndarray로 만든다.\n",
    "    #                     연결할 값들을 튜플로 작성한다.\n",
    "    input_param = np.concatenate((W.ravel(), b.ravel()), axis=0)  # [W b]\n",
    "    derivative_result = learning_rate * numerical_derivative(loss_func, input_param)\n",
    "    \n",
    "    W = W - derivative_result[0].reshape(1,1)\n",
    "    b = b - derivative_result[1]\n",
    "    \n",
    "    if step % 30000 == 0:\n",
    "        input_param = np.concatenate((W.ravel(), b.ravel()), axis=0)\n",
    "        print('W : {}, b : {}, loss : {}'.format(W, b, loss_func(input_param)))"
   ]
  },
  {
   "cell_type": "code",
   "execution_count": 18,
   "id": "ac4719c5",
   "metadata": {},
   "outputs": [
    {
     "name": "stdout",
     "output_type": "stream",
     "text": [
      "온도가 62일 때 오존량 : [[16.90477881]]\n"
     ]
    }
   ],
   "source": [
    "# 학습 종료 후 예측 (Temp : 62)\n",
    "predict_data = predict(np.array([[62]]))\n",
    "print('온도가 62일 때 오존량 : {}'.format(predict_data))  # [[16.90477881]]"
   ]
  },
  {
   "cell_type": "code",
   "execution_count": 20,
   "id": "ba8ebb53",
   "metadata": {},
   "outputs": [
    {
     "data": {
      "image/png": "[encoded data removed]",
      "text/plain": [
       "<Figure size 432x288 with 1 Axes>"
      ]
     },
     "metadata": {
      "needs_background": "light"
     },
     "output_type": "display_data"
    }
   ],
   "source": [
    "# 그래프로 표현해보자!\n",
    "plt.scatter(x_data.ravel(), t_data.ravel())\n",
    "plt.plot(x_data.ravel(), x_data.ravel()*W.ravel() + b, color='r')\n",
    "plt.show()"
   ]
  },
  {
   "cell_type": "code",
   "execution_count": 23,
   "id": "fcfc2468",
   "metadata": {},
   "outputs": [
    {
     "name": "stdout",
     "output_type": "stream",
     "text": [
      "sklearn으로 구한 온도가 62도 일 때의 오존량 : [[3.58411393]]\n"
     ]
    },
    {
     "name": "stderr",
     "output_type": "stream",
     "text": [
      "C:\\Users\\Public\\Documents\\ESTsoft\\CreatorTemp\\ipykernel_32296\\3534395391.py:9: SettingWithCopyWarning: \n",
      "A value is trying to be set on a copy of a slice from a DataFrame\n",
      "\n",
      "See the caveats in the documentation: https://pandas.pydata.org/pandas-docs/stable/user_guide/indexing.html#returning-a-view-versus-a-copy\n",
      "  training_data.dropna(how='any',\n"
     ]
    },
    {
     "data": {
      "image/png": "[encoded data removed]",
      "text/plain": [
       "<Figure size 432x288 with 1 Axes>"
      ]
     },
     "metadata": {
      "needs_background": "light"
     },
     "output_type": "display_data"
    }
   ],
   "source": [
    "# 같은 데이터로 sklearn을 이용해서 구현해보자!\n",
    "import numpy as np\n",
    "import pandas as pd\n",
    "import matplotlib.pyplot as plt\n",
    "from sklearn import linear_model\n",
    "\n",
    "df = pd.read_csv('../data/ozone.csv')\n",
    "training_data = df[['Ozone', 'Temp']]\n",
    "training_data.dropna(how='any',\n",
    "                     inplace=True)   # how='any' : 결치가 존재하는 행을 삭제\n",
    "\n",
    "# Training Data Set\n",
    "x_data = training_data['Temp'].values.reshape(-1,1)\n",
    "t_data = training_data['Ozone'].values.reshape(-1,1)\n",
    "\n",
    "# model 생성\n",
    "model = linear_model.LinearRegression()\n",
    "\n",
    "# model 학습\n",
    "model.fit(x_data, t_data)\n",
    "\n",
    "# 예측\n",
    "result = model.predict(np.array([[62]]))\n",
    "print('sklearn으로 구한 온도가 62도 일 때의 오존량 : {}'.format(result))\n",
    "# [[3.58411393]]\n",
    "\n",
    "# 그래프 표현\n",
    "plt.scatter(x_data.ravel(), t_data.ravel())\n",
    "plt.plot(x_data.ravel(),\n",
    "         x_data.ravel()*model.coef_.ravel() + model.intercept_, color='g')\n",
    "plt.show()"
   ]
  }
 ],
 "metadata": {
  "kernelspec": {
   "display_name": "Python [conda env:machine] *",
   "language": "python",
   "name": "conda-env-machine-py"
  },
  "language_info": {
   "codemirror_mode": {
    "name": "ipython",
    "version": 3
   },
   "file_extension": ".py",
   "mimetype": "text/x-python",
   "name": "python",
   "nbconvert_exporter": "python",
   "pygments_lexer": "ipython3",
   "version": "3.8.12"
  }
 },
 "nbformat": 4,
 "nbformat_minor": 5
}
