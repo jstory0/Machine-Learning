{
 "cells": [
  {
   "cell_type": "code",
   "execution_count": null,
   "id": "fe8d19d5",
   "metadata": {},
   "outputs": [],
   "source": [
    "# Numpy module\n",
    "# 다차원배열 그리고 2차원 matrix 연산을 쉽고 빠르게 하기 위해서 사용\n",
    "# 범용적인 면에서는 일반적인 python list가 더 좋다. (여러 데이터 타입이 들어가기 때문)\n",
    "# 행렬계산이나 수치 계산에서는 Numpy가 더 좋다.\n",
    "\n",
    "# ndarray의 특징, 속성\n",
    "# ndarray의 생성방법\n",
    "# random 관련된 생성 방법과 특수한 기능들(메소드들)\n",
    "# indexing, slicing\n",
    "# boolean indexing, fancy indexing"
   ]
  },
  {
   "cell_type": "code",
   "execution_count": 8,
   "id": "e8970bcf",
   "metadata": {},
   "outputs": [
    {
     "name": "stdout",
     "output_type": "stream",
     "text": [
      "[[ 40  46]\n",
      " [ 94 109]]\n"
     ]
    }
   ],
   "source": [
    "# ndarray의 사칙연산(일반적인 연산)\n",
    "# ndarray의 shape이 같아야 한다.\n",
    "\n",
    "import numpy as np\n",
    "\n",
    "# arr1 = np.array([1,2,3])   # (3,)\n",
    "# arr2 = np.array([4,5,6])   # (3,)\n",
    "# print(arr1 + arr2)         # [5 7 9]\n",
    "\n",
    "# 만약 shape이 다르다면..\n",
    "# arr1 = np.array([1,2,3,4])   # (4,)\n",
    "# arr2 = np.array([4,5,6])     # (3,)\n",
    "# print(arr1 + arr2)           # Error\n",
    "\n",
    "# 하지만 shape이 다를 때도 만약 shape을 맞출 수 있으면 연산이 가능\n",
    "# broadcasting이 발생해서 두 개의 ndarray의 shape을 똑같이 맞춘다.\n",
    "# arr1 = np.array([1,2,3,4])   # (4,)\n",
    "# print(arr1 + 1)              # [2 3 4 5] \n",
    "# arr1 + [1 1 1 1]             # broadcasting\n",
    "\n",
    "# 다양한 경우\n",
    "# arr1 = np.array([1,2,3,4,5,6])   # (6,)\n",
    "# arr2 = np.array([4,5,6])         # (3,)\n",
    "# arr1 + arr2                      # Error\n",
    "\n",
    "# arr1 = np.array([[1,2,3],[4,5,6]])   # (2,3)\n",
    "# arr2 = np.array([4,5,6])           # (3,)   broadcasting 발생\n",
    "# arr1 + arr2                        # array([[ 5,  7,  9],\n",
    "#                                    #        [ 8, 10, 12]])\n",
    "\n",
    "# 행렬곱연산(matrix 곱연산)\n",
    "# 앞의 행렬의 '열'과 뒤의 행렬의 '행'이 같아야 한다\n",
    "# 앞의 '행'과 뒤의 '열'을 가지고 결과가 만들어진다.\n",
    "# (3,2) x (2,2) => 3행 2열이 만들어진다.(3,2)\n",
    "arr1 = np.array([[1,2,3], [4,5,6]])       # (2,3)\n",
    "arr2 = np.array([[4,5], [6,7], [8,9]])    # (3,2)\n",
    "# 행렬곱연산의 결과는 당연히 (2,2)\n",
    "print(np.matmul(arr1,arr2))"
   ]
  },
  {
   "cell_type": "code",
   "execution_count": 10,
   "id": "c8e7f4e9",
   "metadata": {},
   "outputs": [
    {
     "name": "stdout",
     "output_type": "stream",
     "text": [
      "[[1 2 3]\n",
      " [4 5 6]]\n",
      "[[1 4]\n",
      " [2 5]\n",
      " [3 6]]\n"
     ]
    }
   ],
   "source": [
    "# 전치행렬(transpose)\n",
    "\n",
    "import numpy as np\n",
    "\n",
    "arr = np.array([[1,2,3], [4,5,6]])   # (2,3)\n",
    "print(arr)\n",
    "\n",
    "print(arr.T)    # (3,2)"
   ]
  },
  {
   "cell_type": "code",
   "execution_count": 13,
   "id": "3fadda41",
   "metadata": {},
   "outputs": [
    {
     "name": "stdout",
     "output_type": "stream",
     "text": [
      "1\n",
      "2\n",
      "3\n",
      "4\n",
      "5\n"
     ]
    }
   ],
   "source": [
    "# 2\n",
    "# iterator(반복자)를 이용한 반복문 처리\n",
    "# 일반적으로 for문을 이용해서 반복처리를 하는데\n",
    "# ndarray는 while문과 iterator를 이용해서 반복처리하는 방식을 선호.\n",
    "\n",
    "import numpy as np\n",
    "\n",
    "# arr = np.array([1, 2, 3, 4, 5])   # (5,)\n",
    "\n",
    "# for문을 이용한 반복처리\n",
    "# for tmp in arr:\n",
    "#     print(tmp)\n",
    "    \n",
    "# 1차원 ndarray에 대해서 iterator를 이용해 반복처리\n",
    "arr = np.array([1, 2, 3, 4, 5])   # (5,)\n",
    "\n",
    "# iterator 객체를 하나 얻어온다.\n",
    "# iterator 객체로부터 index를 추출할 수 있다.\n",
    "my_iter = np.nditer(arr, flags=['c_index'])\n",
    "\n",
    "while not my_iter.finished:\n",
    "    \n",
    "    idx = my_iter.index   # iterator가 가리키는 index값 뽑아내기\n",
    "    print(arr[idx])       # 출력\n",
    "    my_iter.iternext()    # iternext() : iterator 다음으로 이동"
   ]
  },
  {
   "cell_type": "code",
   "execution_count": 17,
   "id": "a17a2db5",
   "metadata": {},
   "outputs": [
    {
     "name": "stdout",
     "output_type": "stream",
     "text": [
      "(0, 0)\n",
      "1\n",
      "(0, 1)\n",
      "2\n",
      "(0, 2)\n",
      "3\n",
      "(1, 0)\n",
      "4\n",
      "(1, 1)\n",
      "5\n",
      "(1, 2)\n",
      "6\n"
     ]
    }
   ],
   "source": [
    "# 2차원 ndarray에 대한 반복처리\n",
    "\n",
    "import numpy as np\n",
    "\n",
    "# arr = np.array([[1,2,3], [4,5,6]])   # (2,3)\n",
    "\n",
    "# for tmp1 in range(arr.shape[0]):\n",
    "#     for tmp2 in range(arr.shape[1]):\n",
    "#         print(arr[tmp1, tmp2])\n",
    "# for문을 사용할 때는 np.array가 몇차원인지 알고 있어야 한다.\n",
    "\n",
    "arr = np.array([[1,2,3], [4,5,6]])   # (2,3)\n",
    "\n",
    "my_iter = np.nditer(arr, flags=['multi_index'])   # multi_index : 다차원 배열일 때\n",
    "\n",
    "while not my_iter.finished:\n",
    "    idx = my_iter.multi_index\n",
    "    print(idx)\n",
    "    print(arr[idx])\n",
    "    my_iter.iternext()"
   ]
  },
  {
   "cell_type": "code",
   "execution_count": 27,
   "id": "62ed66ba",
   "metadata": {},
   "outputs": [
    {
     "name": "stdout",
     "output_type": "stream",
     "text": [
      "[[1 2 3]\n",
      " [4 5 6]]\n",
      "[5 7 9]\n",
      "[ 6 15]\n"
     ]
    }
   ],
   "source": [
    "# 다양한 집계함수와 axis개념\n",
    "\n",
    "import numpy as np\n",
    "\n",
    "# arr = np.arange(1,7,1).reshape(2,3)\n",
    "# print(arr)    # [[1 2 3]\n",
    "#               # [4 5 6]]\n",
    "\n",
    "# ndarray 데이터에 대한 합을 구할 수 있다.\n",
    "# print(np.sum(arr))   # 21  => Numpy가 제공하는 함수를 이용\n",
    "# print(arr.sum())     # 21  => ndarray가 가지고 있는 메소드를 이용\n",
    "# print(arr.mean())    # 3.5\n",
    "# print(arr.max())     # 6\n",
    "# print(arr.min())     # 1\n",
    "# print(arr.argmax())  # 5  => 가장 큰 값의 index(순차적)값을 찾는다.\n",
    "# print(arr.std())     # 1.707825127659933 => 표준편차\n",
    "\n",
    "# 3\n",
    "# axis 개념에 대해서 알아보자\n",
    "# numpy는 집계함수를 이용할 때 axis를 명시하지 않으면 전체를 대상으로 연산 수행\n",
    "# axis는 숫자(0부터 시작)\n",
    "# 1차원일 때 열방향만 존재 / axis=0 : 열방향\n",
    "# 2차원일 때 행, 열 방향이 존재 / axis=0 : 행, axis=1 열\n",
    "# 3차원 axis=0 : 면방향, axis=1 : 행방향, axis=2 : 열방향\n",
    "\n",
    "arr = np.arange(1,7,1).reshape(2,3)\n",
    "print(arr)    # [[1 2 3]\n",
    "              # [4 5 6]]\n",
    "print(arr.sum(axis=0))   # [5 7 9]\n",
    "print(arr.sum(axis=1))   # [6 15]"
   ]
  },
  {
   "cell_type": "code",
   "execution_count": 35,
   "id": "e391d7aa",
   "metadata": {},
   "outputs": [
    {
     "name": "stdout",
     "output_type": "stream",
     "text": [
      "[[ 1  2  3  4]\n",
      " [ 5  6  7  8]\n",
      " [ 9 10 11 12]\n",
      " [13 14 15 16]]\n",
      "6\n"
     ]
    }
   ],
   "source": [
    "# 간단한 연습문제\n",
    "\n",
    "import numpy as np\n",
    "\n",
    "arr = np.arange(1,17,1).reshape(4,4)\n",
    "print(arr)\n",
    "\n",
    "# 이 안에 10보다 큰 수는 몇 개 있나요?\n",
    "# ?? => Boolean Indexing을 이용\n",
    "\n",
    "# 내 답\n",
    "# my_mask = (arr > 10)\n",
    "# my_count = np.array(arr[my_mask].shape)\n",
    "# print(my_mask)\n",
    "# print(arr[my_mask])\n",
    "# print(my_count)\n",
    "\n",
    "# 강사님 답\n",
    "print((arr > 10).sum())\n",
    "# arr > 10 => broadcasting\n",
    "# .sum() => 합계를 구한다 => False는 0, True는 1"
   ]
  },
  {
   "cell_type": "code",
   "execution_count": null,
   "id": "886b110c",
   "metadata": {},
   "outputs": [],
   "source": [
    "# ndarray의 정렬, 연결, 삭제, CSV파일 로딩\n",
    "# 일반적으로 ndarray로 이작업을 하지 않는다.\n",
    "# pandas로 처리한다!\n",
    "# 우리 pandas에 대해서 알아보자!"
   ]
  }
 ],
 "metadata": {
  "kernelspec": {
   "display_name": "Python [conda env:machine] *",
   "language": "python",
   "name": "conda-env-machine-py"
  },
  "language_info": {
   "codemirror_mode": {
    "name": "ipython",
    "version": 3
   },
   "file_extension": ".py",
   "mimetype": "text/x-python",
   "name": "python",
   "nbconvert_exporter": "python",
   "pygments_lexer": "ipython3",
   "version": "3.8.12"
  }
 },
 "nbformat": 4,
 "nbformat_minor": 5
}
