{
 "cells": [
  {
   "cell_type": "code",
   "execution_count": 1,
   "id": "fbe5fcf6",
   "metadata": {},
   "outputs": [],
   "source": [
    "# Data\n",
    "\n",
    "# 예전부터 Data에 대한 연구는 꾸준히 되어왔다.\n",
    "# Data 분석이 어려운 이유\n",
    "# 1. 데이터가 많이 필요!\n",
    "# 2. Computing Resource가 많이 필요\n",
    "\n",
    "# 시대가 변하면서..\n",
    "# 데이터가 무지막지하게 생산되기 시작했다.\n",
    "# 데이터가 폭발적으로 나오기 시작한 때는 아이폰(스마트폰)이 나오기 시작했을 때\n",
    "# 클라우드(AWS)\n",
    "# 일반인들도 데이터 분석, 머신러닝 작업이 가능!\n",
    "\n",
    "# 데이터를 수집하고 가공하는 작업이 선행.\n",
    "# 우리가 얻는 데이터는 대부분 raw data.\n",
    "# 분석에 사용하기 위해, 머신러닝의 학습에 사용하기 위해 가공해야 한다!\n",
    "# 이런 데이터 가공이 생각보다 어렵다!\n",
    "\n",
    "# 머신러닝에서 데이터 가공이 차지하는 비율은 과장해서 80%, 기본적으로 70%\n",
    "# 사람들이 데이터 가공(핸들링)보다는 머신러닝 기법에 집중한다.\n",
    "# 머신러닝 기법들은 정해져 있어서 상대적으로 쉽다.\n",
    "# 쓰레기를 넣으면 쓰레기가 나온다.\n",
    "# 양질의 많은 데이터가 필요하다.\n",
    "\n",
    "# pandas module => pytnon module\n",
    "# pandas의 데이터 타입을 구성하고 있는 numpy module\n",
    "# numpy는 하나의 자료구조(list, dict)를 제공 => ndarray라는 자료구조를 제공."
   ]
  },
  {
   "cell_type": "code",
   "execution_count": 2,
   "id": "1c9db923",
   "metadata": {},
   "outputs": [],
   "source": [
    "# Numpy\n",
    "# 수치 계산을 용이하게 하기 위한 python module\n",
    "# 대용량의 다차원 배열과 matrix(행렬) 연산을 쉽게 하기 위한 python module\n",
    "# Numerical Python => Numpy\n",
    "# Numpy는 단 하나의 자료구조를 제공 => ndarray(n-dimensional array)\n",
    "# ndarray는 python의 list와 상당히 유사\n",
    "# ndarray는 차원의 개념이 있다.\n",
    "# list는 여러 다른 타입의 데이터가 저장될 수 있다.\n",
    "# 하지만 ndarray는 무조건 같은 데이터 타입만 저장된다.\n",
    "\n",
    "# Numpy는 외장 module이기 때문에 당연히 설치해서 사용해야 한다.\n",
    "# conda install numpy"
   ]
  },
  {
   "cell_type": "code",
   "execution_count": 14,
   "id": "3a959c83",
   "metadata": {},
   "outputs": [
    {
     "name": "stdout",
     "output_type": "stream",
     "text": [
      "[1, 2.3, 3, 4, True, 'Hello']\n",
      "<class 'list'>\n",
      "[1 2 3 4]\n",
      "<class 'numpy.ndarray'>\n",
      "int32\n"
     ]
    }
   ],
   "source": [
    "import numpy as np\n",
    "\n",
    "# python list\n",
    "a = [1, 2.3, 3, 4, True, 'Hello']\n",
    "print(a)        # [1, 2.3, 3, 4, True, 'Hello']\n",
    "print(type(a))  # <class 'list'>\n",
    "\n",
    "# Numpy의 ndarray\n",
    "arr = np.array([1, 2, 3, 4])\n",
    "print(arr)         # [1 2 3 4]   => 1차원\n",
    "print(type(arr))   # <class 'numpy.ndarray'>\n",
    "print(arr.dtype)   # int32\n",
    "\n",
    "# ndarray => 같은 타입으로 항상 맞춰진다.\n",
    "# 정수 중 실수가 하나라도 있으면 다 실수로\n",
    "# 문자열이 하나라도 있으면 문자열로"
   ]
  },
  {
   "cell_type": "code",
   "execution_count": 23,
   "id": "80a36bae",
   "metadata": {},
   "outputs": [
    {
     "name": "stdout",
     "output_type": "stream",
     "text": [
      "[[1, 2, 3], [4, 5, 6]]\n",
      "5\n",
      "[[1 2 3]\n",
      " [4 5 6]]\n",
      "5\n",
      "[4 5 6]\n",
      "5\n",
      "int32\n",
      "[[1. 2. 3.]\n",
      " [4. 5. 6.]]\n",
      "float64\n"
     ]
    }
   ],
   "source": [
    "# 다차원 배열\n",
    "import numpy as np\n",
    "\n",
    "# 중첩 리스트\n",
    "my_list = [[1, 2, 3], [4, 5, 6]]\n",
    "print(my_list)         # [[1, 2, 3], [4, 5, 6]]\n",
    "print(my_list[1][1])   # 5\n",
    "\n",
    "# ndarray - 행렬 개념\n",
    "arr = np.array([[1, 2, 3], [4, 5, 6]])\n",
    "print(arr)         # [[1 2 3]\n",
    "                   #  [4 5 6]]\n",
    "print(arr[1, 1])   # 5             => ndarray는 기본적으로 이 방식이 옳다.\n",
    "print(arr[1])      # [4 5 6]\n",
    "print(arr[1][1])   # 5\n",
    "print(arr.dtype)   # int32 (Numpy가 알아서 설정!)\n",
    "\n",
    "# 기본적으로 ndarray는 요소의 데이터 타입을 이용해서\n",
    "# dtype을 설정.\n",
    "# 데이터 타입을 지정해서 ndarray를 생성할 수 있다.\n",
    "arr = np.array([[1, 2, 3], [4, 5, 6]],\n",
    "              dtype=np.float64)\n",
    "print(arr)         # [[1. 2. 3.]\n",
    "                   #  [4. 5. 6.]]\n",
    "print(arr.dtype)   # float64"
   ]
  },
  {
   "cell_type": "code",
   "execution_count": 33,
   "id": "f114054b",
   "metadata": {},
   "outputs": [
    {
     "name": "stdout",
     "output_type": "stream",
     "text": [
      "[1 2 3 4]\n",
      "int32\n",
      "1\n",
      "(4,)\n",
      "2\n",
      "(2, 3)\n",
      "3\n",
      "(2, 2, 3)\n"
     ]
    }
   ],
   "source": [
    "# ndarray의 차원 관련 속성\n",
    "\n",
    "my_list = [1, 2, 3, 4]\n",
    "arr = np.array(my_list)\n",
    "print(arr)         # [1 2 3 4]\n",
    "print(arr.dtype)   # ndarray의 data type => int32\n",
    "print(arr.ndim)    # ndim은 차원수를 숫자로 알려준다. => 1\n",
    "print(arr.shape)   # shape은 차원과 요소수를 tuple로 알려준다. => (4,)\n",
    "                   # 1차원이니까 tuple 안에 요소가 1개. 그리고 그 값이 요소의 개수\n",
    "                   # (4,)\n",
    "\n",
    "my_list = [[1, 2, 3], [4, 5, 6]]\n",
    "arr = np.array(my_list)\n",
    "print(arr.ndim)    # 2\n",
    "print(arr.shape)   # (2, 3) => 행이 2개 열이 3개 2차원\n",
    "\n",
    "# (2, 2, 3) 형태의 ndarray를 만들어보자.\n",
    "my_list = [[[1, 2, 3],\n",
    "            [1, 2, 3]],\n",
    "           [[1, 2, 3],\n",
    "            [1, 2, 3]]]\n",
    "arr = np.array(my_list)\n",
    "print(arr.ndim)    # 3\n",
    "print(arr.shape)   # (2, 2, 3)"
   ]
  },
  {
   "cell_type": "code",
   "execution_count": 37,
   "id": "b5b44084",
   "metadata": {},
   "outputs": [
    {
     "name": "stdout",
     "output_type": "stream",
     "text": [
      "float64\n",
      "[1 2 3 4 5]\n",
      "int32\n",
      "['1.2' '2.3' '3.0' '4.0' '5.7']\n"
     ]
    }
   ],
   "source": [
    "# ndarray의 type을 변환시켜보자. => astype()\n",
    "import numpy as np\n",
    "\n",
    "arr = np.array([1.2, 2.3, 3, 4, 5.7])\n",
    "print(arr.dtype)    # float64\n",
    "\n",
    "new_arr = arr.astype(np.int32)\n",
    "print(new_arr)         # [1 2 3 4 5]\n",
    "print(new_arr.dtype)   # int32\n",
    "\n",
    "new_arr = arr.astype(np.str_)\n",
    "print(new_arr)         # ['1.2' '2.3' '3.0' '4.0' '5.7']\n"
   ]
  },
  {
   "cell_type": "code",
   "execution_count": 48,
   "id": "939650e9",
   "metadata": {},
   "outputs": [
    {
     "name": "stdout",
     "output_type": "stream",
     "text": [
      "[[0. 0. 0. 0.]\n",
      " [0. 0. 0. 0.]\n",
      " [0. 0. 0. 0.]]\n",
      "[[1. 1. 1.]\n",
      " [1. 1. 1.]]\n",
      "[[[4.67296746e-307 1.69121096e-306 8.45598687e-307]\n",
      "  [7.56587585e-307 1.37961302e-306 1.05699242e-307]\n",
      "  [1.95821439e-306 7.56599128e-307 1.33511562e-306]]\n",
      "\n",
      " [[1.11258854e-306 1.60218491e-306 1.11260348e-306]\n",
      "  [1.20161390e-306 1.33511562e-306 6.89809565e-307]\n",
      "  [9.34608432e-307 9.45695436e-308 1.24611470e-306]]]\n",
      "[[7. 7. 7.]\n",
      " [7. 7. 7.]]\n",
      "[[1 2 3]\n",
      " [4 5 6]]\n",
      "[[0 0 0]\n",
      " [0 0 0]]\n",
      "[[1 1 1]\n",
      " [1 1 1]]\n"
     ]
    }
   ],
   "source": [
    "# ndarray를 만드는 다양한 함수들.\n",
    "import numpy as np\n",
    "my_list = [1, 2, 3]\n",
    "arr = np.array(my_list)    # list를 이용해서 ndarray를 생성!\n",
    "\n",
    "arr = np.zeros((3, 4))   # shape은 tuple로 표현한다.\n",
    "print(arr)   # [[0. 0. 0. 0.]  => 주어진 shape에 대한 ndarray를 생성하고 0으로 채운다\n",
    "             #  [0. 0. 0. 0.]\n",
    "             #  [0. 0. 0. 0.]]\n",
    "        \n",
    "arr = np.ones((2, 3))   # shape은 tuple로 표현한다.\n",
    "print(arr)\n",
    "\n",
    "arr = np.empty((2,3,3)) # shape은 typle로 표현한다.\n",
    "print(arr)              # 주어진 shape에 대한 ndarray를 생성하고 값을 채우지 않는다.\n",
    "                        # 안에 쓰레기 값이 들어갈 수 있다.\n",
    "                        # 상대적으로 ndarray를 빠르게 생성할 수 있다.\n",
    "arr = np.full((2,3),\n",
    "              7,\n",
    "              dtype=np.float64)\n",
    "print(arr)\n",
    "\n",
    "#####################\n",
    "# shape을 직접 지정하지 않고 다른 ndarray의 shape을 이용해서 ndarray를\n",
    "# 생성할 수 있다.\n",
    "\n",
    "arr = np.array([[1,2,3], [4,5,6]],\n",
    "              dtype=np.int32)\n",
    "print(arr)   # [[1 2 3]\n",
    "             #  [4 5 6]]\n",
    "    \n",
    "new_arr = np.zeros_like(arr)   # arr의 shape과 같은 형태로 0을 채워라\n",
    "print(new_arr)   # [[0 0 0]\n",
    "                 #  [0 0 0]]\n",
    "    \n",
    "new_arr = np.ones_like(arr)   # arr의 shape과 같은 형태로 1을 채워라\n",
    "print(new_arr)   # [[1 1 1]\n",
    "                 #  [1 1 1]]"
   ]
  },
  {
   "cell_type": "code",
   "execution_count": 53,
   "id": "7651f7c8",
   "metadata": {},
   "outputs": [
    {
     "name": "stdout",
     "output_type": "stream",
     "text": [
      "range(1, 10)\n",
      "[1 2 3 4 5 6 7 8 9]\n",
      "[1.3 3.3 5.3 7.3 9.3]\n"
     ]
    }
   ],
   "source": [
    "# ndarray를 만드는 방법!\n",
    "# np.array(), np.ones(), np.zeros(), np.full(), np.empty()\n",
    "# np.ones_like(), np.zeros_like(), np.full_like(), np.empty_like()\n",
    "# np.arange()\n",
    "\n",
    "import numpy as np\n",
    "\n",
    "# python의 range\n",
    "a = range(1,10)   # 1부터 10까지 1씩 증가하는 값(10은 포함X)\n",
    "print(a)          # range(1, 10) => 의미이고 실제 값을 하나씩 가지고 있지는 않음\n",
    "\n",
    "# numpy의 arange\n",
    "arr = np.arange(1,10)   # 1부터 10까지(10은 포함X) 1씩 증가하는 값으로 구성된\n",
    "                        # ndarray (실제로 값을 가지고 있다.)\n",
    "print(arr)   # [1 2 3 4 5 6 7 8 9]\n",
    "\n",
    "arr = np.arange(1.3, 10.1, 2)  # 1.3 부터 10.1까지 2씩 증가하는 값\n",
    "print(arr)   # [1.3 3.3 5.3 7.3 9.3]"
   ]
  },
  {
   "cell_type": "code",
   "execution_count": 60,
   "id": "9b115d8a",
   "metadata": {},
   "outputs": [
    {
     "name": "stdout",
     "output_type": "stream",
     "text": [
      "[ 0.  2.  4.  6.  8. 10.]\n",
      "[  0.   4.   8.  12.  16.  20.  24.  28.  32.  36.  40.  44.  48.  52.\n",
      "  56.  60.  64.  68.  72.  76.  80.  84.  88.  92.  96. 100. 104. 108.\n",
      " 112. 116. 120.]\n"
     ]
    }
   ],
   "source": [
    "# ndarray를 만드는 방법!\n",
    "# np.array(), np.ones(), np.zeros(), np.full(), np.empty()\n",
    "# np.ones_like(), np.zeros_like(), np.full_like(), np.empty_like()\n",
    "# np.arange(), np.linspace()\n",
    "import numpy as np\n",
    "\n",
    "# np.linspace(start, stop, num)\n",
    "# start : 시작 숫자와, stop : 끝 숫자 ==> 둘 다 포함\n",
    "# num : 그 안에 균일한 간격을 ㅗ몇개의 숫자가 들어갈지를 나타내는 숫자.\n",
    "# 균일한 간격의 데이터를 생성해서 ndarray를 만들어내는 함수\n",
    "# 원소간의 간격은 어떻게 생각하면 될까? => (stop - start) / (num - 1)\n",
    "\n",
    "arr = np.linspace(0,10,6)\n",
    "print(arr)\n",
    "\n",
    "arr = np.linspace(0,120,31)\n",
    "print(arr)"
   ]
  },
  {
   "cell_type": "code",
   "execution_count": 76,
   "id": "e363ff96",
   "metadata": {},
   "outputs": [
    {
     "name": "stdout",
     "output_type": "stream",
     "text": [
      "[0.9497503  0.70196103 0.84874351 ... 0.87318691 0.31709401 0.44446338]\n"
     ]
    },
    {
     "data": {
      "image/png": "[encoded data removed]",
      "text/plain": [
       "<Figure size 432x288 with 1 Axes>"
      ]
     },
     "metadata": {
      "needs_background": "light"
     },
     "output_type": "display_data"
    }
   ],
   "source": [
    "# ndarray를 만드는 방법!\n",
    "# np.array(), np.ones(), np.zeros(), np.full(), np.empty()\n",
    "# np.ones_like(), np.zeros_like(), np.full_like(), np.empty_like()\n",
    "# np.arange(), np.linspace()\n",
    "# 랜덤값을 이용해서 ndarray를 만들어 내는 방법 - 5개의 함수가 있다.\n",
    "# np.rancom.nomal(), np.random.rand(), np.random.randn()\n",
    "# np.rnadom.randint(), np.rnadom.random()\n",
    "\n",
    "# np.random.normal() : ndarray를 만든다. 그런데 그 안의 데이터는 난수로 채운다.\n",
    "#                      정규분포 실수 표본을 추출\n",
    "#                      평균, 표준편차 값이 필요!\n",
    "#                      일단 난수를 추출하고 그 난수가 정규분포를 따르는지 확인!\n",
    "import numpy as np\n",
    "import matplotlib.pyplot as plt   # 그래프를 그릴 수 있는 라이브러리\n",
    "# matplotlib 라이브러리 안의 pyplot 서브모듈을 사용하여 그래프를 그린다.\n",
    "# Anaconda Prompt 명령어 입력하여 라이브러리 설치\n",
    "# conda install matplotlib\n",
    "\n",
    "# mean = 50   # 평균 50\n",
    "# std = 2     # 표준편차 2\n",
    "\n",
    "# arr = np.random.normal(mean,         # 평균\n",
    "#                        std,          # 표준편차\n",
    "#                        (100000,))    # shape\n",
    "# print(arr)\n",
    "# plt.hist(arr,bins=100)\n",
    "# plt.show()\n",
    "\n",
    "# np.random.rand() : ndarray를 만든다. 그런데 그 안의 데이터는 난수로 채운다.\n",
    "#                    [0,1) 0부터 1사이(0은 포함, 1은 불포함)의 실수형 난수를\n",
    "#                    균등분포에서 추출한 후 ndarray를 생성\n",
    "# np.random.rand(d1, d2, d3)\n",
    "# 데이터의 편향을 없애기 위해서 난수를 균등하게 뽑는다.\n",
    "# arr = np.random.rand(100000)\n",
    "# print(arr)\n",
    "# plt.hist(arr,bins=100)\n",
    "# plt.show()\n",
    "\n",
    "# np.random.randn() : ndarray를 만든다. 그런데 그 안의 데이터는 난수로 채운다.\n",
    "#                     표준 정규분포에서 난수를 추출(정규분포에서 평균이 0이고\n",
    "#                     표준편차가 1인 정규분포를 표준정규분포)\n",
    "# arr = np.random.randn(100000)\n",
    "# print(arr)\n",
    "# plt.hist(arr,bins=100)\n",
    "# plt.show()\n",
    "\n",
    "# np.random.randint() : ndarray를 만든다. 그런데 그 안의 데이터는 난수로 채운다.\n",
    "#                       균등분포에서 정수형 난수를 추출. low와 high 값을 줘야 한다\n",
    "# arr = np.random.randint(1, 100, (100000,))\n",
    "# print(arr)\n",
    "# plt.hist(arr,bins=99)\n",
    "# plt.show()\n",
    "\n",
    "# np.random.random() : ndarray를 만든다. 그런데 그 안의 데이터는 난수로 채운다.\n",
    "#                      균등분포에서 실수형 난수를 추출.\n",
    "#                      범위는 [0,1) 사이에서 난수를 추출\n",
    "# np.random.rand(shape)\n",
    "arr = np.random.random((100000,))\n",
    "print(arr)\n",
    "plt.hist(arr,bins=100)\n",
    "plt.show()"
   ]
  },
  {
   "cell_type": "code",
   "execution_count": 99,
   "id": "318babb1",
   "metadata": {},
   "outputs": [
    {
     "name": "stdout",
     "output_type": "stream",
     "text": [
      "[2 1 4]\n"
     ]
    }
   ],
   "source": [
    "# 기억해야 하는 random 관련 함수들\n",
    "# 1. seed()\n",
    "#    랜덤값도 사실은 프로그램 알고리즘에 의해서 추출되는 값.\n",
    "#    랜덤값을 도출하는 초기값을 고정하면 항상 같은 랜덤값을 얻을 수 있다.\n",
    "#    난수(랜덤값)의 재현성을 확보할 수 있다.\n",
    "\n",
    "# np.random.seed(1)\n",
    "# np.random.seed(None)\n",
    "# arr = np.random.randint(1, 10, (5,))\n",
    "# print(arr)\n",
    "\n",
    "# 2. 데이터의 순서를 바꿀 때 shuffle()\n",
    "# arr = np.arange(1, 10)\n",
    "# print(arr)\n",
    "\n",
    "# new_arr = np.random.shuffle(arr)\n",
    "# print(new_arr)   # None\n",
    "# np.random.shuffle(arr)   # 원본이 변경된다. 복사본을 만들지 않는다.\n",
    "# print(arr)\n",
    "\n",
    "# 3. sampling에서 사용할 수 있는 choice()\n",
    "# np.random.choice(a, size, replace, p)\n",
    "# a : 배열(ndarray)\n",
    "# size : 숫자 (몇개를 뽑을 건지)\n",
    "# replace : True이면 한번 뽑은 것을 다시 뽑을 수 있다.\n",
    "# p : 확률(각 데이터가 선택될 수 있는 확률)\n",
    "\n",
    "# arr = np.random.choice(np.array([1,2,3,4,5]), 3)\n",
    "# arr = np.random.choice(np.array([1,2,3,4,5]), 3, replace=True)\n",
    "# arr = np.random.choice(np.array([1,2,3,4,5]), 3, replace=False)\n",
    "arr = np.random.choice(np.array([1,2,3,4,5]), 3, p=[0.1, 0.2, 0.2, 0.5, 0])\n",
    "print(arr)"
   ]
  },
  {
   "cell_type": "code",
   "execution_count": 109,
   "id": "51d3fd5a",
   "metadata": {},
   "outputs": [
    {
     "name": "stdout",
     "output_type": "stream",
     "text": [
      "[[ 1  2  3  4  5  6]\n",
      " [ 7  8  9 10 11 12]]\n",
      "(2, 6)\n",
      "[[100   2   3   4]\n",
      " [  5   6   7   8]\n",
      " [  9  10  11  12]]\n",
      "[[ 1  2  3  4  5  6]\n",
      " [ 7  8  9 10 11 12]]\n"
     ]
    }
   ],
   "source": [
    "# ndarray의 특징, 속성(shape)\n",
    "# ndarray의 생성\n",
    "# - np.array([1,2,3])   # list를 이용한 ndarray 생성\n",
    "# - np.ones(), np.zeros(), ...     # 다양한 생성 함수\n",
    "# - np.arange(), np.linspace()     # 다양한 생성 함수\n",
    "# - np.random.normal(), 총 5가지   # random 값을 이용한 ndarray 생성 함수\n",
    "# 기억해야 할 random 관련 함수\n",
    "# - np.random.seed(), np.random.shuffle(), np.random.choice()\n",
    "# ndarray의 shape과 관련된 중요한 함수들(reshape(), ravel(), resize())\n",
    "\n",
    "arr = np.array([[1,2,3,4,5,6], [7,8,9,10,11,12]])\n",
    "print(arr)         # 2차원의 ndarray\n",
    "print(arr.shape)   # (2, 6)\n",
    "# [[ 1  2  3  4  5  6]\n",
    "#  [ 7  8  9 10 11 12]]\n",
    "\n",
    "# new_arr = arr.reshape(3,4)\n",
    "# print(new_arr)\n",
    "# # [[ 1  2  3  4]\n",
    "# #  [ 5  6  7  8]\n",
    "# #  [ 9 10 11 12]]\n",
    "# new_arr[0,0] = 100\n",
    "# print(new_arr)\n",
    "# print(arr)\n",
    "\n",
    "# reshape() : shape을 바꿔서 새로운 ndarray를 만들어 내는 게 아니다.\n",
    "#             shape을 바꿔서 원래 ndarray에 데이터를 다르게 보여주는 view를 생성\n",
    "#             하나의 데이터를 공유하고 있다.\n",
    "# 만약 모양을 바꾸어서 새로운 ndarray를 생성하고 싶으면 copy()를 이용\n",
    "new_arr = arr.reshape(3,4).copy()\n",
    "new_arr[0,0] = 100\n",
    "print(new_arr)\n",
    "print(arr)\n",
    "\n",
    "# new_arr = arr.reshape(2,3,2)\n",
    "# print(new_arr)\n",
    "# [[[ 1  2]\n",
    "#   [ 3  4]\n",
    "#   [ 5  6]]\n",
    "\n",
    "#  [[ 7  8]\n",
    "#   [ 9 10]\n",
    "#   [11 12]]]"
   ]
  },
  {
   "cell_type": "code",
   "execution_count": 111,
   "id": "1a5a72dd",
   "metadata": {},
   "outputs": [
    {
     "name": "stdout",
     "output_type": "stream",
     "text": [
      "[[ 1  2  3  4  5  6]\n",
      " [ 7  8  9 10 11 12]]\n",
      "(2, 6)\n",
      "[ 1  2  3  4  5  6  7  8  9 10 11 12]\n"
     ]
    }
   ],
   "source": [
    "# reshape()은 내가 원하는 shape의 view를 만들 수 있다.\n",
    "# ravel()은 무조건 1차원의 view를 만든다!\n",
    "arr = np.array([[1,2,3,4,5,6], [7,8,9,10,11,12]])\n",
    "print(arr)         # 2차원의 ndarray\n",
    "print(arr.shape)   # (2, 6)\n",
    "\n",
    "new_arr = arr.ravel()   # 1차원으로 view를 생성\n",
    "# new_arr = arr.reshape(12)\n",
    "print(new_arr)   # [ 1  2  3  4  5  6  7  8  9 10 11 12]"
   ]
  },
  {
   "cell_type": "code",
   "execution_count": 117,
   "id": "2605d18e",
   "metadata": {},
   "outputs": [
    {
     "name": "stdout",
     "output_type": "stream",
     "text": [
      "[[ 1  2  3  4  5  6]\n",
      " [ 7  8  9 10 11 12]]\n",
      "(2, 6)\n",
      "None\n",
      "[[1 2]\n",
      " [3 4]\n",
      " [5 6]]\n"
     ]
    }
   ],
   "source": [
    "# resize()는 약간 다르다.\n",
    "arr = np.array([[1,2,3,4,5,6], [7,8,9,10,11,12]])\n",
    "print(arr)         # 2차원의 ndarray\n",
    "print(arr.shape)   # (2, 6)\n",
    "\n",
    "# new_arr = arr.reshape(3,5)   # reshape은 요소수가 맞지 않으면 view가 생성되지 않는다.\n",
    "new_arr = arr.resize(3,2)\n",
    "print(new_arr)  # None => resize는 복사본을 만들지 않는다. 원본을 변경\n",
    "print(arr)      # resize()는 요소의 개수가 같지 않아도 수행이 가능.\n",
    "\n",
    "# resize()는 원본의 shape이 바뀐다. => 데이터가 부족한 부분은 0으로 채운다.\n",
    "#            shape을 다시 만들면서 남는 데이터가 생기면 버린다.\n",
    "# 데이터의 유실이 있을 수 있어서 많이 사용되지는 않는다."
   ]
  },
  {
   "cell_type": "code",
   "execution_count": 128,
   "id": "cf54cb09",
   "metadata": {},
   "outputs": [
    {
     "name": "stdout",
     "output_type": "stream",
     "text": [
      "[[ 0  1  2  3]\n",
      " [ 4  5  6  7]\n",
      " [ 8  9 10 11]]\n",
      "[[ 6  7]\n",
      " [10 11]]\n"
     ]
    }
   ],
   "source": [
    "######### 기본적인 사항들\n",
    "# ndarray의 특징, 속성(shape)\n",
    "# ndarray의 생성\n",
    "# - np.array([1,2,3])   # list를 이용한 ndarray 생성\n",
    "# - np.ones(), np.zeros(), ...     # 다양한 생성 함수\n",
    "# - np.arange(), np.linspace()     # 다양한 생성 함수\n",
    "# - np.random.normal(), 총 5가지   # random 값을 이용한 ndarray 생성 함수\n",
    "# 기억해야 할 random 관련 함수\n",
    "# - np.random.seed(), np.random.shuffle(), np.random.choice()\n",
    "# ndarray의 shape과 관련된 중요한 함수들(reshape(), ravel(), resize())\n",
    "\n",
    "\n",
    "####### indexing, slicing ####### (ndarray 사용방법)\n",
    "# arr = np.arange(10,15,1)  # [10 11 12 13 14]\n",
    "\n",
    "# print(arr[0])    # 10        # 기본적인 index\n",
    "# print(arr[1:3])  # [11 12]   # 기본적인 slicing은 python의 list와 동일.\n",
    "# print(arr[1:-1]) # [11 12 13]\n",
    "\n",
    "arr = np.arange(0,12).reshape(3,4)\n",
    "print(arr)\n",
    "\n",
    "# print(arr[1,2])  # 6\n",
    "# print(arr[1])    # [4 5 6 7]\n",
    "# print(arr[1,:])  # [4 5 6 7]\n",
    "print(arr[1:,2:])  # [[ 6  7]\n",
    "                   # [10 11]]\n",
    "# 1차원에 대한 indexing과 slicing이 다차원으로 확장"
   ]
  },
  {
   "cell_type": "code",
   "execution_count": 137,
   "id": "ece0e449",
   "metadata": {},
   "outputs": [
    {
     "name": "stdout",
     "output_type": "stream",
     "text": [
      "[5 8 9 5 0 0 1 7 6 9]\n",
      "[8 0 0 6]\n"
     ]
    }
   ],
   "source": [
    "# Boolean Indexing $ Fancy indexing\n",
    "# 이 두개를 잘 해야 한다!!\n",
    "\n",
    "# Boolean Indexing\n",
    "# indexing 방법 중 하나로.. boolean mask를 이용해서 indexing하는 방법\n",
    "\n",
    "import numpy as np\n",
    "\n",
    "np.random.seed(1)\n",
    "\n",
    "arr = np.random.randint(0, 10, (10,))\n",
    "print(arr)   # [5 8 9 5 0 0 1 7 6 9]\n",
    "\n",
    "# ndarray의 사칙연산 => +, -, *, /\n",
    "# print(arr + 10)      # [15 18 19 15 10 10 11 17 16 19]\n",
    "# print(arr % 2)       # [1 0 1 1 0 0 1 1 0 1]\n",
    "# print(arr % 2 == 0)  # [False  True False False  True  True False False  True False]\n",
    "# True, False로만 구성된 ndarray를 boolean mask라고 표현한다.\n",
    "my_mask = (arr % 2 == 0)\n",
    "# boolean indexing은 boolean mask를 가지고 indexing 하는 것을 의미\n",
    "# 각 위치에 True에 해당하는 값만 뽑아낸다.\n",
    "print(arr[my_mask])   # [8 0 0 6]\n",
    "\n",
    "# ndarray는 같은 shape에 대해서만 연산이 가능! => shape이 다르면 연산이 안됨\n",
    "# arr1 = np.array([1,2,3])   # (3,)\n",
    "# arr2 = np.array([4,5,6])   # (3,)\n",
    "# print(arr1 + arr2)   # [5 7 9]\n",
    "\n",
    "# list1 = [1,2,3]\n",
    "# list2 = [4,5,6]\n",
    "# print(list1 + list2) # list 연결 [1, 2, 3, 4, 5, 6]\n",
    "\n",
    "# ndarray는 만약 shape을 맞출 수 있으면 broadcasting이 진행!(차원을 맞춰준다!)\n",
    "# arr1 = np.array([1,2,3])\n",
    "# arr1 + 4   # 4는 0차원 스칼라\n",
    "           # [4 4 4] 1차원으로 차원을 올려서 broadcasting이 진행된다.\n",
    "# print(arr1 + 4)   # [5 6 7]"
   ]
  },
  {
   "cell_type": "code",
   "execution_count": 146,
   "id": "7c57a955",
   "metadata": {},
   "outputs": [
    {
     "name": "stdout",
     "output_type": "stream",
     "text": [
      "[[ 0  1  2  3]\n",
      " [ 4  5  6  7]\n",
      " [ 8  9 10 11]]\n",
      "[ 1 11]\n",
      "[[ 1  3]\n",
      " [ 9 11]]\n"
     ]
    }
   ],
   "source": [
    "# Fancy Indexing\n",
    "# ndarray에 index list을 전달해서 indexing하는 방법\n",
    "\n",
    "# arr = np.array([1,2,3,4,5,6])\n",
    "# print(arr)\n",
    "\n",
    "# print(arr[3])   # 4 => indexing\n",
    "# print(arr[3:])  # [4 5 6] => slicing\n",
    "# print(arr[[3, 5]])  # [4 6] => fancy indexing\n",
    "# index로 구성된 list를 ndarray의 index에 넣어준다.\n",
    "\n",
    "arr = np.arange(0,12,1).reshape(3,4)\n",
    "print(arr)\n",
    "\n",
    "# print(arr[0:2,1:])   # [[1 2 3]\n",
    "                     # [5 6 7]]\n",
    "    \n",
    "# print(arr[0:2,[1,3]])  # [[1 3]\n",
    "                       # [5 7]]\n",
    "\n",
    "                         # [[1 3]\n",
    "                         #  [9 11]]\n",
    "print(arr[[0,2], [1,3]])   # [ 1 11] ??? 안된다(numpy 내부구조 때문)\n",
    "# 이런 경우를 위해 함수를 하나 제공!\n",
    "\n",
    "# np.ix_() 함수를 이용\n",
    "print(arr[np.ix_([0,2], [1,3])])   # [[ 1  3]\n",
    "                                   # [ 9 11]]"
   ]
  }
 ],
 "metadata": {
  "kernelspec": {
   "display_name": "Python [conda env:machine] *",
   "language": "python",
   "name": "conda-env-machine-py"
  },
  "language_info": {
   "codemirror_mode": {
    "name": "ipython",
    "version": 3
   },
   "file_extension": ".py",
   "mimetype": "text/x-python",
   "name": "python",
   "nbconvert_exporter": "python",
   "pygments_lexer": "ipython3",
   "version": "3.8.12"
  }
 },
 "nbformat": 4,
 "nbformat_minor": 5
}
